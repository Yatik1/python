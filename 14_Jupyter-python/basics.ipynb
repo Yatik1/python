{
 "cells": [
  {
   "cell_type": "code",
   "execution_count": 1,
   "id": "9cff3451-d06a-450f-b2f6-a8ff49cce3eb",
   "metadata": {},
   "outputs": [
    {
     "data": {
      "text/plain": [
       "14"
      ]
     },
     "execution_count": 1,
     "metadata": {},
     "output_type": "execute_result"
    }
   ],
   "source": [
    "8+6\n"
   ]
  },
  {
   "cell_type": "code",
   "execution_count": 2,
   "id": "e08e2f83-85b9-4fc3-902d-cc8920f86dc3",
   "metadata": {},
   "outputs": [],
   "source": [
    "myList = [1,2,3,4]\n"
   ]
  },
  {
   "cell_type": "code",
   "execution_count": 5,
   "id": "a8e20650-2ea8-4d6a-9d19-f24fb7ba31a9",
   "metadata": {},
   "outputs": [
    {
     "data": {
      "text/plain": [
       "[1, 2, 3, 4]"
      ]
     },
     "execution_count": 5,
     "metadata": {},
     "output_type": "execute_result"
    }
   ],
   "source": [
    "myList"
   ]
  },
  {
   "cell_type": "code",
   "execution_count": 7,
   "id": "e7138c35-3433-4498-aef9-1fd71028f436",
   "metadata": {},
   "outputs": [
    {
     "data": {
      "text/plain": [
       "'my name is yatik'"
      ]
     },
     "execution_count": 7,
     "metadata": {},
     "output_type": "execute_result"
    }
   ],
   "source": [
    "string = \"my name is yatik\"\n",
    "string"
   ]
  },
  {
   "cell_type": "code",
   "execution_count": 9,
   "id": "b7b7f4ba-bb86-44d0-b39a-fd59c429b732",
   "metadata": {},
   "outputs": [
    {
     "data": {
      "text/plain": [
       "' name '"
      ]
     },
     "execution_count": 9,
     "metadata": {},
     "output_type": "execute_result"
    }
   ],
   "source": [
    "string[2:8]"
   ]
  },
  {
   "cell_type": "code",
   "execution_count": 11,
   "id": "d996b683-ce63-4ea4-a620-283e57866f89",
   "metadata": {},
   "outputs": [
    {
     "name": "stdout",
     "output_type": "stream",
     "text": [
      "Hello World\n"
     ]
    }
   ],
   "source": [
    "print(\"Hello World\")\n"
   ]
  },
  {
   "cell_type": "code",
   "execution_count": 21,
   "id": "1e605c14-2e71-404e-b550-3e1c38a46772",
   "metadata": {},
   "outputs": [
    {
     "data": {
      "text/plain": [
       "[3, 7]"
      ]
     },
     "execution_count": 21,
     "metadata": {},
     "output_type": "execute_result"
    }
   ],
   "source": [
    "myList = []\n",
    "myList.append(3)\n",
    "myList.append(7)\n",
    "\n",
    "myList"
   ]
  },
  {
   "cell_type": "code",
   "execution_count": 23,
   "id": "d2ce5273-6acf-41fa-b9b0-7acfb545744f",
   "metadata": {},
   "outputs": [
    {
     "name": "stdout",
     "output_type": "stream",
     "text": [
      "3\n",
      "7\n"
     ]
    }
   ],
   "source": [
    "for item in myList:\n",
    "    print(item)"
   ]
  },
  {
   "cell_type": "code",
   "execution_count": 3,
   "id": "0a051487-122c-4342-8080-1c2527b2c1f9",
   "metadata": {},
   "outputs": [],
   "source": [
    "def isAdult(age):\n",
    "    if age>18:\n",
    "        return True\n",
    "    else:\n",
    "        return False\n",
    "\n"
   ]
  },
  {
   "cell_type": "code",
   "execution_count": 7,
   "id": "01b6f510-ce33-44ff-a49e-9ba72bc14f77",
   "metadata": {},
   "outputs": [
    {
     "data": {
      "text/plain": [
       "True"
      ]
     },
     "execution_count": 7,
     "metadata": {},
     "output_type": "execute_result"
    }
   ],
   "source": [
    "isAdult(25)"
   ]
  },
  {
   "cell_type": "code",
   "execution_count": 9,
   "id": "f3441b5b-3a66-4840-b27f-0f6cdb9842e6",
   "metadata": {},
   "outputs": [
    {
     "name": "stdout",
     "output_type": "stream",
     "text": [
      "Hello my name is Yatik\n"
     ]
    }
   ],
   "source": [
    "name=\"Yatik\"\n",
    "\n",
    "print(f\"Hello my name is {name}\")"
   ]
  },
  {
   "cell_type": "code",
   "execution_count": 11,
   "id": "ec4da1e5-53b2-4981-a592-84aa3718541a",
   "metadata": {},
   "outputs": [
    {
     "name": "stdout",
     "output_type": "stream",
     "text": [
      "10 * 10 = 100\n"
     ]
    }
   ],
   "source": [
    "num = 10\n",
    "print(f\"{num} * 10 = {num*10}\")"
   ]
  }
 ],
 "metadata": {
  "kernelspec": {
   "display_name": "Python 3 (ipykernel)",
   "language": "python",
   "name": "python3"
  },
  "language_info": {
   "codemirror_mode": {
    "name": "ipython",
    "version": 3
   },
   "file_extension": ".py",
   "mimetype": "text/x-python",
   "name": "python",
   "nbconvert_exporter": "python",
   "pygments_lexer": "ipython3",
   "version": "3.12.4"
  }
 },
 "nbformat": 4,
 "nbformat_minor": 5
}
