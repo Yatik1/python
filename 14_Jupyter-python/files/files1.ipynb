{
 "cells": [
  {
   "cell_type": "code",
   "execution_count": 1,
   "metadata": {},
   "outputs": [
    {
     "name": "stdout",
     "output_type": "stream",
     "text": [
      "Writing nextfile.txt\n"
     ]
    }
   ],
   "source": [
    "%%writefile nextfile.txt\n",
    "ONE on FORST\n",
    "TWO on SECOND\n",
    "THREE on THIRD"
   ]
  },
  {
   "cell_type": "code",
   "execution_count": 2,
   "metadata": {},
   "outputs": [
    {
     "name": "stdout",
     "output_type": "stream",
     "text": [
      "Overwriting nextfile.txt\n"
     ]
    }
   ],
   "source": [
    "%%writefile nextfile.txt\n",
    "ONE on FIRST\n",
    "TWO on SECOND\n",
    "THREE on THIRD"
   ]
  },
  {
   "cell_type": "code",
   "execution_count": 17,
   "metadata": {},
   "outputs": [
    {
     "name": "stdout",
     "output_type": "stream",
     "text": [
      "ONE on FIRST\n",
      "TWO on SECOND\n",
      "THREE on THIRD\n"
     ]
    }
   ],
   "source": [
    "with open(\"nextfile.txt\",mode='r') as file:\n",
    "    print(file.read())"
   ]
  },
  {
   "cell_type": "code",
   "execution_count": 18,
   "metadata": {},
   "outputs": [],
   "source": [
    "with open(\"nextfile.txt\",mode='a') as file:\n",
    "    file.write(\"\\nFOUR on FORTH\")"
   ]
  },
  {
   "cell_type": "code",
   "execution_count": 19,
   "metadata": {},
   "outputs": [
    {
     "name": "stdout",
     "output_type": "stream",
     "text": [
      "ONE on FIRST\n",
      "TWO on SECOND\n",
      "THREE on THIRD\n",
      "FOUR on FORTH\n"
     ]
    }
   ],
   "source": [
    "with open(\"nextfile.txt\",mode='r') as file:\n",
    "    print(file.read())"
   ]
  },
  {
   "cell_type": "code",
   "execution_count": 20,
   "metadata": {},
   "outputs": [],
   "source": [
    "with open(\"anotherFile.txt\",mode=\"w\") as f:\n",
    "    f.write(\"File created by with open(), mode-> w\")"
   ]
  },
  {
   "cell_type": "code",
   "execution_count": 21,
   "metadata": {},
   "outputs": [
    {
     "name": "stdout",
     "output_type": "stream",
     "text": [
      "File created by with open(), mode-> w\n"
     ]
    }
   ],
   "source": [
    "with open(\"anotherfile.txt\",mode='r') as file:\n",
    "    print(file.read())"
   ]
  }
 ],
 "metadata": {
  "kernelspec": {
   "display_name": "base",
   "language": "python",
   "name": "python3"
  },
  "language_info": {
   "codemirror_mode": {
    "name": "ipython",
    "version": 3
   },
   "file_extension": ".py",
   "mimetype": "text/x-python",
   "name": "python",
   "nbconvert_exporter": "python",
   "pygments_lexer": "ipython3",
   "version": "3.12.4"
  }
 },
 "nbformat": 4,
 "nbformat_minor": 2
}
